{
 "cells": [
  {
   "cell_type": "code",
   "execution_count": 1,
   "metadata": {
    "ExecuteTime": {
     "end_time": "2018-02-06T13:56:56.798776Z",
     "start_time": "2018-02-06T13:56:56.071801Z"
    },
    "collapsed": true,
    "run_control": {
     "frozen": false,
     "read_only": false
    }
   },
   "outputs": [],
   "source": [
    "import re\n",
    "\n",
    "import pandas as pd\n",
    "import requests "
   ]
  },
  {
   "cell_type": "markdown",
   "metadata": {},
   "source": [
    "**Part 2b.1: Scrape webpage for data links**"
   ]
  },
  {
   "cell_type": "code",
   "execution_count": 2,
   "metadata": {
    "ExecuteTime": {
     "end_time": "2018-02-06T13:56:59.299562Z",
     "start_time": "2018-02-06T13:56:58.263282Z"
    },
    "collapsed": true,
    "run_control": {
     "frozen": false,
     "read_only": false
    }
   },
   "outputs": [],
   "source": [
    "r = requests.get('http://data.kk.dk/dataset/faste-trafiktaellinger')\n",
    "html = r.text"
   ]
  },
  {
   "cell_type": "markdown",
   "metadata": {},
   "source": [
    "We find all urls with the regex code used below. This was found by Googling and discovering [this webpage](https://stackoverflow.com/questions/6883049/regex-to-find-urls-in-string-in-python)."
   ]
  },
  {
   "cell_type": "code",
   "execution_count": 3,
   "metadata": {
    "ExecuteTime": {
     "end_time": "2018-02-06T13:57:00.041009Z",
     "start_time": "2018-02-06T13:57:00.036145Z"
    },
    "collapsed": true,
    "run_control": {
     "frozen": false,
     "read_only": false
    }
   },
   "outputs": [],
   "source": [
    "re_url = 'http[s]?://(?:[a-zA-Z]|[0-9]|[$-_@.&+]|[!*\\(\\),]|(?:%[0-9a-fA-F][0-9a-fA-F]))+'\n",
    "urls = re.findall(re_url, html)"
   ]
  },
  {
   "cell_type": "markdown",
   "metadata": {},
   "source": [
    "We select the urls that link to MS Excel files"
   ]
  },
  {
   "cell_type": "code",
   "execution_count": 4,
   "metadata": {
    "ExecuteTime": {
     "end_time": "2018-02-06T13:57:02.121099Z",
     "start_time": "2018-02-06T13:57:02.117221Z"
    },
    "collapsed": true,
    "run_control": {
     "frozen": false,
     "read_only": false
    }
   },
   "outputs": [],
   "source": [
    "urls_w_data = [u for u in urls if u.endswith('.xlsx')]"
   ]
  },
  {
   "cell_type": "code",
   "execution_count": 5,
   "metadata": {
    "ExecuteTime": {
     "end_time": "2018-02-06T14:26:41.344851Z",
     "start_time": "2018-02-06T14:26:41.339102Z"
    }
   },
   "outputs": [
    {
     "data": {
      "text/plain": [
       "['http://data.kk.dk/dataset/5f9345b0-d73b-43ff-a659-e468d160bc61/resource/dcb49b51-1a17-40f6-82b4-34eaf58bce57/download/faste-trafiktaellinger-2005.xlsx',\n",
       " 'http://data.kk.dk/dataset/5f9345b0-d73b-43ff-a659-e468d160bc61/resource/0bfc0425-0b2f-43b4-be71-117b4265598d/download/faste-trafiktaellinger-2006.xlsx',\n",
       " 'http://data.kk.dk/storage/f/2015-05-11T07%3A35%3A06.512Z/faste-trafiktaellinger-2007.xlsx',\n",
       " 'http://data.kk.dk/dataset/5f9345b0-d73b-43ff-a659-e468d160bc61/resource/e4f321ad-76bc-483f-839e-e04cfea6bfc0/download/faste-trafiktaellinger-2008.xlsx',\n",
       " 'http://data.kk.dk/dataset/5f9345b0-d73b-43ff-a659-e468d160bc61/resource/bac5c582-bdd0-45db-b174-f835e82851bc/download/faste-trafiktaellinger-2009.xlsx',\n",
       " 'http://data.kk.dk/dataset/5f9345b0-d73b-43ff-a659-e468d160bc61/resource/a209aef9-802c-4cda-9b42-f4364877b04f/download/faste-trafiktaellinger-2010.xlsx',\n",
       " 'http://data.kk.dk/dataset/5f9345b0-d73b-43ff-a659-e468d160bc61/resource/8b2f60a9-17ac-437d-ae6e-ad44c0a49edd/download/faste-trafiktaellinger-2011.xlsx',\n",
       " 'http://data.kk.dk/dataset/5f9345b0-d73b-43ff-a659-e468d160bc61/resource/d41f5bc7-9834-4698-ad2c-3a4dc15d124a/download/faste-trafiktaellinger-2012.xlsx',\n",
       " 'http://data.kk.dk/dataset/5f9345b0-d73b-43ff-a659-e468d160bc61/resource/3cbd235e-9904-44b4-83f1-35630dbd8acc/download/faste-trafiktaellinger-2013.xlsx',\n",
       " 'http://data.kk.dk/dataset/5f9345b0-d73b-43ff-a659-e468d160bc61/resource/03f2768e-0ff0-4b42-9d3d-be268e131088/download/faste-trafiktaellinger-2014.xlsx']"
      ]
     },
     "execution_count": 5,
     "metadata": {},
     "output_type": "execute_result"
    }
   ],
   "source": [
    "urls_w_data"
   ]
  },
  {
   "cell_type": "markdown",
   "metadata": {},
   "source": [
    "We load the data using pandas' Excel reader. Details are found below line by line."
   ]
  },
  {
   "cell_type": "code",
   "execution_count": 6,
   "metadata": {
    "ExecuteTime": {
     "end_time": "2018-02-06T15:30:13.361936Z",
     "start_time": "2018-02-06T15:28:35.014799Z"
    },
    "collapsed": true,
    "run_control": {
     "frozen": false,
     "read_only": false
    }
   },
   "outputs": [],
   "source": [
    "# loading the datasets into a list using list comprehension\n",
    "# note that we skip the first 10 lines as they are not useful\n",
    "data_sets = [pd.read_excel(u, skiprows=10) for u in urls_w_data]"
   ]
  },
  {
   "cell_type": "code",
   "execution_count": 7,
   "metadata": {
    "ExecuteTime": {
     "end_time": "2018-02-06T15:30:13.438895Z",
     "start_time": "2018-02-06T15:30:13.364231Z"
    },
    "collapsed": true,
    "run_control": {
     "frozen": false,
     "read_only": false
    }
   },
   "outputs": [],
   "source": [
    "data_raw = pd.concat(data_sets)"
   ]
  }
 ],
 "metadata": {
  "kernelspec": {
   "display_name": "Python 3",
   "language": "python",
   "name": "python3"
  },
  "language_info": {
   "codemirror_mode": {
    "name": "ipython",
    "version": 3
   },
   "file_extension": ".py",
   "mimetype": "text/x-python",
   "name": "python",
   "nbconvert_exporter": "python",
   "pygments_lexer": "ipython3",
   "version": "3.6.1"
  },
  "nav_menu": {},
  "toc": {
   "navigate_menu": true,
   "number_sections": true,
   "sideBar": true,
   "threshold": 6,
   "toc_cell": false,
   "toc_section_display": "block",
   "toc_window_display": false
  }
 },
 "nbformat": 4,
 "nbformat_minor": 2
}
