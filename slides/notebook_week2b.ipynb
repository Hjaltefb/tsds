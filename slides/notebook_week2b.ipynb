{
 "cells": [
  {
   "cell_type": "markdown",
   "metadata": {
    "slideshow": {
     "slide_type": "slide"
    }
   },
   "source": [
    "# Week 2.b: Data structuring"
   ]
  },
  {
   "cell_type": "markdown",
   "metadata": {
    "slideshow": {
     "slide_type": "slide"
    }
   },
   "source": [
    "## Overview remainder today\n",
    "- The pandas way\n",
    "- Some new data types\n",
    "- Advanced concepts\n",
    "  - Split-apply-combine\n",
    "  - Combining datasets\n",
    "- Exercises: apply concepts and more details"
   ]
  },
  {
   "cell_type": "markdown",
   "metadata": {
    "slideshow": {
     "slide_type": "slide"
    }
   },
   "source": [
    "## Course survey\n",
    "https://andreasabn.typeform.com/to/NGxcXV"
   ]
  },
  {
   "cell_type": "markdown",
   "metadata": {
    "slideshow": {
     "slide_type": "slide"
    }
   },
   "source": [
    "# Motivation"
   ]
  },
  {
   "cell_type": "markdown",
   "metadata": {
    "slideshow": {
     "slide_type": "slide"
    }
   },
   "source": [
    "## Why learn data structuring?\n",
    "- Necessary step before modelling\t\n",
    "- Data driven thesis in economics - 80-90 pct. data structuring\n",
    "- Big data prevalence"
   ]
  },
  {
   "cell_type": "markdown",
   "metadata": {
    "slideshow": {
     "slide_type": "slide"
    }
   },
   "source": [
    "## What is data structuring?\n",
    "- Moving from raw data to analysis ready\n",
    "- Social Fabric example\n",
    "  - 200 million GPS samples\n",
    "  - 40 million Bluetooth meetings\n",
    "  - 100k calls / text messages"
   ]
  },
  {
   "cell_type": "markdown",
   "metadata": {
    "slideshow": {
     "slide_type": "slide"
    }
   },
   "source": [
    "## What is data structuring? (2)\n",
    "\n",
    "Examples\n",
    "- Converting data types\n",
    "- Filtering data\n",
    "- Aggregating over periods, users etc"
   ]
  },
  {
   "cell_type": "markdown",
   "metadata": {
    "slideshow": {
     "slide_type": "slide"
    }
   },
   "source": [
    "# The pandas module"
   ]
  },
  {
   "cell_type": "markdown",
   "metadata": {
    "slideshow": {
     "slide_type": "slide"
    }
   },
   "source": [
    "## Pandas\n",
    "\n",
    "\n",
    "Why use Pandas?"
   ]
  },
  {
   "cell_type": "markdown",
   "metadata": {
    "slideshow": {
     "slide_type": "fragment"
    }
   },
   "source": [
    "1. easy to learn\n",
    "  - built with Python's simplicity \n",
    "  - great documentation\n",
    "2. provides powerful tools for smart data structuring\n",
    "3. speed - leverages numpy's fast computatition\n",
    "4. development - breathtaking speed of new tools coming\n",
    "5. use modern data science approach \n",
    "  - makes packages in R’s tidyverse easy to undestand\n",
    "  - can use R's packages directly"
   ]
  },
  {
   "cell_type": "markdown",
   "metadata": {
    "slideshow": {
     "slide_type": "slide"
    }
   },
   "source": [
    "## Pandas (2)\n",
    "\n",
    "\n",
    "What is `pandas`? What does it add to numpy and basic Python?"
   ]
  },
  {
   "cell_type": "markdown",
   "metadata": {
    "slideshow": {
     "slide_type": "fragment"
    }
   },
   "source": [
    "- `pandas` is a framework where rows and columns are labelled. It provides som useful features for structuring data."
   ]
  },
  {
   "cell_type": "markdown",
   "metadata": {
    "slideshow": {
     "slide_type": "fragment"
    }
   },
   "source": [
    "- Think of `pandas` is a mix of Python lists and dictionaries, providing access via positions and labels."
   ]
  },
  {
   "cell_type": "markdown",
   "metadata": {
    "slideshow": {
     "slide_type": "fragment"
    }
   },
   "source": [
    "- `pandas` have some unique capabilities for data structuring."
   ]
  },
  {
   "cell_type": "markdown",
   "metadata": {
    "slideshow": {
     "slide_type": "slide"
    }
   },
   "source": [
    "## Pandas (3)"
   ]
  },
  {
   "cell_type": "markdown",
   "metadata": {
    "slideshow": {
     "slide_type": "fragment"
    }
   },
   "source": [
    "What is a `pandas` ***Series***? "
   ]
  },
  {
   "cell_type": "markdown",
   "metadata": {
    "slideshow": {
     "slide_type": "fragment"
    }
   },
   "source": [
    "- A vector/one dimensional array.\n",
    "- Each row has a label."
   ]
  },
  {
   "cell_type": "markdown",
   "metadata": {
    "slideshow": {
     "slide_type": "fragment"
    }
   },
   "source": [
    "What is a `pandas` ***DataFrame***? "
   ]
  },
  {
   "cell_type": "markdown",
   "metadata": {
    "slideshow": {
     "slide_type": "fragment"
    }
   },
   "source": [
    "- A matrix/ two dimensional array.\n",
    "- Each row has a label, each column has name."
   ]
  },
  {
   "cell_type": "markdown",
   "metadata": {
    "slideshow": {
     "slide_type": "slide"
    }
   },
   "source": [
    "## Pandas (4)\n",
    "\n",
    "Why are these data structures smart? Lots of useful tools:\n",
    "- Manipulate columns numerically (all normal python works: `+,-,*,/,**`) or as strings \n",
    "- Select subsets of data\n",
    "- Sort data, change labels (indices or columns)\n",
    "- Much more"
   ]
  },
  {
   "cell_type": "markdown",
   "metadata": {
    "slideshow": {
     "slide_type": "slide"
    }
   },
   "source": [
    "## Pandas (5)\n",
    "\n",
    "How are we going to learn to use this\n",
    "\n",
    "- your preparation?\n",
    "- practice > exercises, external resources, summer course (recommended)\n",
    "- lecture > advanced concepts "
   ]
  },
  {
   "cell_type": "markdown",
   "metadata": {
    "slideshow": {
     "slide_type": "slide"
    }
   },
   "source": [
    "# Data types"
   ]
  },
  {
   "cell_type": "markdown",
   "metadata": {
    "slideshow": {
     "slide_type": "slide"
    }
   },
   "source": [
    "## Recap\n",
    "\n",
    "*What are some of the fundamental data types?*\n",
    "\n",
    "-\n",
    "\n",
    "- "
   ]
  },
  {
   "cell_type": "markdown",
   "metadata": {
    "slideshow": {
     "slide_type": "slide"
    }
   },
   "source": [
    "## Data types\n",
    "\n",
    "Basic data types\n",
    "- String \n",
    "- Numeric (float, integer)\n",
    "\n",
    "Pandas extends this with (see: exercises)\n",
    "- Categorical\n",
    "- Temporal\n",
    "\n",
    "What is not here?"
   ]
  },
  {
   "cell_type": "markdown",
   "metadata": {
    "slideshow": {
     "slide_type": "slide"
    }
   },
   "source": [
    "## Data types (2): missing data\n",
    "\n",
    "Suppose we have the following 3 x 3 matrix with some missing elements:\n",
    "\n",
    "> .. 1 3\n",
    "\n",
    "> 2 1 ..\n",
    "\n",
    "> .. 6 ..\n",
    "\n"
   ]
  },
  {
   "cell_type": "markdown",
   "metadata": {
    "slideshow": {
     "slide_type": "slide"
    }
   },
   "source": [
    "## Data types (3): missing data"
   ]
  },
  {
   "cell_type": "code",
   "execution_count": 16,
   "metadata": {
    "slideshow": {
     "slide_type": "fragment"
    }
   },
   "outputs": [
    {
     "name": "stdout",
     "output_type": "stream",
     "text": [
      "     A  B\n",
      "0  NaN  1\n",
      "1  2.0  1\n"
     ]
    }
   ],
   "source": [
    "import numpy as np\n",
    "import pandas as pd\n",
    "\n",
    "data_input = [[np.nan, 1], \n",
    "              [2, 1]]\n",
    "\n",
    "example_df = pd.DataFrame(data = data_input,\n",
    "                          columns = ['A', 'B'])\n",
    "\n",
    "print(example_df)"
   ]
  },
  {
   "cell_type": "markdown",
   "metadata": {
    "slideshow": {
     "slide_type": "slide"
    }
   },
   "source": [
    "## Data types (4): missing data"
   ]
  },
  {
   "cell_type": "markdown",
   "metadata": {
    "slideshow": {
     "slide_type": "-"
    }
   },
   "source": [
    "- be ***always alert*** of missing data!\n",
    "- be explicit (drop, ignore, replace)\n",
    "- careful of selection when ignoring: \n",
    "    - statement (X > 1): missing is deselected!!\n",
    "- in computation:\n",
    "    - dropped in mean; quantiles?\n",
    "    - models drop missing"
   ]
  },
  {
   "cell_type": "code",
   "execution_count": 14,
   "metadata": {
    "slideshow": {
     "slide_type": "fragment"
    }
   },
   "outputs": [
    {
     "data": {
      "text/plain": [
       "A    2.0\n",
       "B    1.0\n",
       "dtype: float64"
      ]
     },
     "execution_count": 14,
     "metadata": {},
     "output_type": "execute_result"
    }
   ],
   "source": [
    "example_df.mean(skipna=True)"
   ]
  },
  {
   "cell_type": "markdown",
   "metadata": {
    "slideshow": {
     "slide_type": "slide"
    }
   },
   "source": [
    "# Split-apply-combine"
   ]
  },
  {
   "cell_type": "markdown",
   "metadata": {
    "slideshow": {
     "slide_type": "subslide"
    }
   },
   "source": [
    "## The groupby method"
   ]
  },
  {
   "cell_type": "markdown",
   "metadata": {
    "slideshow": {
     "slide_type": "fragment"
    }
   },
   "source": [
    "Example: grouping by ***x*** and calculating mean of ***y***\n",
    "\n",
    "<center><img src='https://raw.githubusercontent.com/abjer/sds/master/slides/figures/split-apply-combine.png'></center>"
   ]
  },
  {
   "cell_type": "markdown",
   "metadata": {
    "slideshow": {
     "slide_type": "slide"
    }
   },
   "source": [
    "## The groupby method (2)\n",
    "\n",
    "Why useful:\n",
    "- split data based on one or variables, e.g. individual, day, country etc.\n",
    "- calculate relevant statistics: sums, quantiles, custom functions"
   ]
  },
  {
   "cell_type": "markdown",
   "metadata": {
    "slideshow": {
     "slide_type": "slide"
    }
   },
   "source": [
    "## The groupby method (3)\n",
    "\n",
    "Suppose you have a dataset from a telecom on phone calls.\n",
    "\n",
    "When is groupby useful?\n",
    "- calculating total number of phone calls per individual?\n",
    "- compute the total number of talked minutes?\n",
    "- find the day with least number of phone calls?"
   ]
  },
  {
   "cell_type": "markdown",
   "metadata": {
    "slideshow": {
     "slide_type": "slide"
    }
   },
   "source": [
    "## The groupby method (4)\n",
    "\n",
    "How do we apply the groupby method?"
   ]
  },
  {
   "cell_type": "code",
   "execution_count": 20,
   "metadata": {
    "slideshow": {
     "slide_type": "-"
    }
   },
   "outputs": [
    {
     "name": "stdout",
     "output_type": "stream",
     "text": [
      "   A  B\n",
      "0  1  1\n",
      "1  2  2\n",
      "2  2  3\n",
      "     B\n",
      "A     \n",
      "1  1.0\n",
      "2  2.5\n"
     ]
    }
   ],
   "source": [
    "import pandas as pd\n",
    "\n",
    "data_input = [[1, 1], [2, 2], [2, 3]]\n",
    "col_names = ['A', 'B']\n",
    "\n",
    "df = pd.DataFrame(data=data_input, columns=col_names)\n",
    "split_vars = ['A']\n",
    "compute_vars = ['B']\n",
    "\n",
    "print(df)\n",
    "print(df.groupby(split_vars)[compute_vars].mean())"
   ]
  },
  {
   "cell_type": "markdown",
   "metadata": {
    "slideshow": {
     "slide_type": "slide"
    }
   },
   "source": [
    "# Combining datasets"
   ]
  },
  {
   "cell_type": "markdown",
   "metadata": {
    "slideshow": {
     "slide_type": "slide"
    }
   },
   "source": [
    "## Merging, joining and stacking data\n",
    "\n",
    "It is possible to join different datasets together into one. \n",
    "\n",
    "This often necessary to perform analyses. \n",
    "\n",
    "Core methods\n",
    "- vertical and horizontally stack datasets (see exercises)\n",
    "- merging on shared columns and indices"
   ]
  },
  {
   "cell_type": "markdown",
   "metadata": {
    "slideshow": {
     "slide_type": "slide"
    }
   },
   "source": [
    "## Merging DataFrames\n",
    "We can merge DataFrames which share common identifiers, row by row. Example:"
   ]
  },
  {
   "cell_type": "code",
   "execution_count": 21,
   "metadata": {
    "collapsed": true,
    "slideshow": {
     "slide_type": "-"
    }
   },
   "outputs": [],
   "source": [
    "df1 = pd.DataFrame([[1, 2], [3, 4]], columns=['A', 'B'])\n",
    "df2 = pd.DataFrame([[5, 3], [7, 8]], columns=[\"B\", 'C'])"
   ]
  },
  {
   "cell_type": "code",
   "execution_count": 22,
   "metadata": {
    "slideshow": {
     "slide_type": "-"
    }
   },
   "outputs": [
    {
     "name": "stdout",
     "output_type": "stream",
     "text": [
      "   A  B\n",
      "0  1  2\n",
      "1  3  4\n",
      "\n",
      "   B  C\n",
      "0  2  3\n",
      "1  7  8\n"
     ]
    }
   ],
   "source": [
    "print(df1)\n",
    "print()\n",
    "print(df2)"
   ]
  },
  {
   "cell_type": "code",
   "execution_count": null,
   "metadata": {
    "collapsed": true,
    "slideshow": {
     "slide_type": "-"
    }
   },
   "outputs": [],
   "source": [
    "print(pd.merge(df1, df2, how='inner'))"
   ]
  },
  {
   "cell_type": "markdown",
   "metadata": {
    "slideshow": {
     "slide_type": "slide"
    }
   },
   "source": [
    "## Merging DataFrames (continued)\n",
    "Merging can be either of four types.\n",
    "- inner merge: observations exist in both dataframes [default]\n",
    "- left (right) merge: observations exist in left (right) dataframe\n",
    "- outer merge: observations exist either in left or in right dataframe\n",
    "\n",
    "<center><img src='https://raw.githubusercontent.com/abjer/sds/master/slides/figures/sql-joins.png'></center>"
   ]
  },
  {
   "cell_type": "markdown",
   "metadata": {
    "slideshow": {
     "slide_type": "slide"
    }
   },
   "source": [
    "## Round up\n",
    "\n",
    "- we have learned briefly about dataframes and some core capabilities\n",
    "- data science is very applied you need to get fingers dirty:\n",
    "    - exercises, building data pipelines, reading\n",
    "\n",
    "\n"
   ]
  }
 ],
 "metadata": {
  "celltoolbar": "Slideshow",
  "kernelspec": {
   "display_name": "Python 3",
   "language": "python",
   "name": "python3"
  },
  "language_info": {
   "codemirror_mode": {
    "name": "ipython",
    "version": 3
   },
   "file_extension": ".py",
   "mimetype": "text/x-python",
   "name": "python",
   "nbconvert_exporter": "python",
   "pygments_lexer": "ipython3",
   "version": "3.6.1"
  }
 },
 "nbformat": 4,
 "nbformat_minor": 2
}
